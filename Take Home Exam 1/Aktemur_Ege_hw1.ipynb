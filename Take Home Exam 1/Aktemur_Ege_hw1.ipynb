{
  "nbformat": 4,
  "nbformat_minor": 0,
  "metadata": {
    "colab": {
      "name": "Aktemur_Ege_hw1.ipynb",
      "provenance": [],
      "collapsed_sections": []
    },
    "kernelspec": {
      "name": "python3",
      "display_name": "Python 3"
    }
  },
  "cells": [
    {
      "cell_type": "markdown",
      "metadata": {
        "id": "JD9gUM7WW8iT"
      },
      "source": [
        "# Homework 1 - Practicing Python\n",
        "\n",
        "\n",
        "*In the first homework, you are going to work on a set of Python exercises.*\n",
        "\n",
        "**Submission Instructions**\n",
        "\n",
        "---\n",
        "It is important that you follow the submission instructions. \n",
        "1. Copy this assignment notebook to your Drive. <font color = 'red'> `File` --> `Save a copy in Drive`</font>. Rename it as <font color = 'green'>`Lastname_Firstname_hw1`</font>.\n",
        "\n",
        "2. Write your solutions in the cells  marked <font color = 'green'>`# your code`</font>.\n",
        "\n",
        "3. Do not delete your outputs. They are essential for the grading. Make sure that cells containing your solutions are executed, and the results are displayed on the notebook.\n",
        "\n",
        "4. When you're done please submit your solutions as an <font color=\"red\">`.ipynb`</font> file. To do so:\n",
        "\n",
        "\n",
        "  a. Click on <font color=\"red\">`File`</font>  at the top left on the Colab screen, then click on <font color = 'red'>`Download .ipynb`</font>.\n",
        "\n",
        "  b. Then submit the downloaded <font color=\"red\">`.ipynb`</font> version of your work on SUCourse.\n",
        "\n",
        "\n",
        "For any question, you may send an email to the TAs and LAs.\n",
        "\n",
        "---\n",
        "\n",
        "**Important Note:**   \n",
        "In this homework, you do not need to use any libraries than the built-in ones. Hence, you are not allowed to use any libraries, other than the [`pprint`](https://docs.python.org/3/library/pprint.html) library to produce better looking outputs. If you have doubt on what to use what not to use please ask your question in the SuCourse Homework Q&A forum."
      ]
    },
    {
      "cell_type": "markdown",
      "metadata": {
        "id": "rYfw-eaiBOBJ"
      },
      "source": [
        "## 15 points - Q1: Find the Office Hour, Given the TA\n",
        "\n",
        "In the cell below, you have three lists containing the TA names and their day of office hour in the same order.\n",
        "\n",
        "Here, your goal is to write a fuction named `TA_day` that will return the day and hour of a particular TA. E.g.,\n",
        "\n",
        "```py\n",
        ">>> TA_day(TA_name='Ozgur Can Seckin')\n",
        "Tuesday, 17:40-18:30\n",
        "```\n",
        "\n",
        "After defining your function as such, please find the day and hour for **Mutlu Soruklu**"
      ]
    },
    {
      "cell_type": "code",
      "metadata": {
        "id": "_RCO6nIyEpv1"
      },
      "source": [
        "TA_names = ['Ege Alpay', 'Hasan Alp Boz', 'Mutlu Soruklu', 'Ozgur Can Seckin']\n",
        "office_days = ['Friday', 'Tuesday', 'Monday', 'Tuesday']\n",
        "office_hours = ['18:40 - 19:30', '9:40-10:30', '17:40 - 18:30', '17:40 - 18:30']"
      ],
      "execution_count": null,
      "outputs": []
    },
    {
      "cell_type": "code",
      "metadata": {
        "id": "VsigiNj3FzgF",
        "colab": {
          "base_uri": "https://localhost:8080/"
        },
        "outputId": "2e4e3585-68bc-4ced-b8f3-f60cc614d590"
      },
      "source": [
        "# your code\n",
        "information = zip(TA_names,office_days,office_hours)\n",
        "def TA_day(name,funcinformation=information):\n",
        "  for i in funcinformation:\n",
        "    if (i[0]==name):\n",
        "      day=i[1]\n",
        "      time=i[2]\n",
        "      time1=time.split(\"-\")[0].strip()\n",
        "      time2=time.split(\"-\")[1].strip()\n",
        "      timecorrected=time1+\"-\"+time2\n",
        "  return day+\", \"+timecorrected\n",
        "print(TA_day('Mutlu Soruklu'))"
      ],
      "execution_count": null,
      "outputs": [
        {
          "output_type": "stream",
          "name": "stdout",
          "text": [
            "Monday, 17:40-18:30\n"
          ]
        }
      ]
    },
    {
      "cell_type": "markdown",
      "metadata": {
        "id": "DwskSV1dAeoR"
      },
      "source": [
        "## 30 points - Q2: Inflation Rates\n",
        "\n",
        "Inflation rates measured by consumer price index for 38 distinct countries and OECD average were taken from:\n",
        "https://data.oecd.org/price/inflation-cpi.htm\n",
        "\n",
        "Each line stores the country name, year and related inflation rate, seperated by a **semicolon**.\n",
        "\n",
        "In total, we have 195 lines where the inflation rates are given for years between 2016 and 2020.\n",
        "\n",
        "\n",
        "<img src=\"https://i.ibb.co/bBzypPS/Q2-OECD.png\"></img>\n",
        "\n",
        "*Do not forget to add the shared file and then mount to your drive. Otherwise, you won't be able to read the file. If you do not know how, please go back to Week 1 videos.*\n",
        "\n",
        "**Attention: You may want to transform the string to numbers by using float() function**"
      ]
    },
    {
      "cell_type": "markdown",
      "metadata": {
        "id": "EJdIEenmj6W_"
      },
      "source": [
        "### 15 points - **Part A**\n",
        "In this part, you should - by using the inflation_data.csv file under assignment folder:\n",
        "1. Find the **mean inflation rates** for Turkey and Germany (denoted as TUR and DEU in the data, respectively) between years 2016 and 2020 and print the results.\n",
        "2. Calculate the **difference between means** and print the result.\n",
        "\n",
        "![](https://i.ibb.co/L0JTk8V/Q2-OECD.png)"
      ]
    },
    {
      "cell_type": "code",
      "metadata": {
        "id": "tbaryKClTz5Z",
        "colab": {
          "base_uri": "https://localhost:8080/"
        },
        "outputId": "eb0b68f3-e087-4f06-f77b-adda8f8a4941"
      },
      "source": [
        "from google.colab import drive\n",
        "drive.mount(\"./drive/\", force_remount=True)\n",
        "from os.path import join\n",
        "path = \"./drive/My Drive\" "
      ],
      "execution_count": 2,
      "outputs": [
        {
          "output_type": "stream",
          "name": "stdout",
          "text": [
            "Mounted at ./drive/\n"
          ]
        }
      ]
    },
    {
      "cell_type": "code",
      "metadata": {
        "id": "NnRDeA3_SPi0",
        "colab": {
          "base_uri": "https://localhost:8080/"
        },
        "outputId": "b2bf51ae-3e26-41b5-f6bd-bc3d5a9d3ba4"
      },
      "source": [
        "# your code\n",
        "filename = \"inflation_data.csv\"\n",
        "TURInflationRates = []\n",
        "DEUInflationRates = []\n",
        "def mean(x):\n",
        "  total=0\n",
        "  for i in x:\n",
        "    total = total+i[2]\n",
        "  return total/len(x)\n",
        "with open(join(path, filename)) as lines:\n",
        "  for line in lines:\n",
        "    line = line.replace(\",\", \".\").strip()\n",
        "    informationList = line.split(\";\")\n",
        "    if informationList[0] == \"TUR\":\n",
        "      TURInflationRates.append(informationList)\n",
        "    if informationList[0] == \"DEU\":\n",
        "      DEUInflationRates.append(informationList)\n",
        "    informationList[1] = int(informationList[1])\n",
        "    informationList[2] = float(informationList[2])\n",
        "print(\"Turkey's mean inflation rate between 2016-2020:\",mean(TURInflationRates))\n",
        "print(\"Germany's mean inflation rate between 2016-2020:\",mean(DEUInflationRates))\n",
        "print(\"Difference between Turkey's and Germany's mean inflation rate between 2016-2020:\",abs(mean(DEUInflationRates)-mean(TURInflationRates)))\n"
      ],
      "execution_count": null,
      "outputs": [
        {
          "output_type": "stream",
          "name": "stdout",
          "text": [
            "Turkey's mean inflation rate between 2016-2020: 12.5415368\n",
            "Germany's mean inflation rate between 2016-2020: 1.1371541\n",
            "Difference between Turkey's and Germany's mean inflation rate between 2016-2020: 11.4043827\n"
          ]
        }
      ]
    },
    {
      "cell_type": "markdown",
      "metadata": {
        "id": "pIBUWMoXSSwr"
      },
      "source": [
        "### 15 points - **Part B**\n",
        "\n",
        "Find the country with the minimum mean inflation rate (note that it might be negative!)\n",
        "\n",
        "![](https://i.ibb.co/hBsTWvs/Q2-OECD-2.png)"
      ]
    },
    {
      "cell_type": "code",
      "metadata": {
        "id": "laBFy2HkSXpC",
        "colab": {
          "base_uri": "https://localhost:8080/"
        },
        "outputId": "ef2554dd-c909-451c-e1ac-1223a9938a85"
      },
      "source": [
        "# your code\n",
        "filename = \"inflation_data.csv\"\n",
        "def mean(x):\n",
        "  total=0\n",
        "  for i in x:\n",
        "    total = total+i\n",
        "  return total/len(x)\n",
        "CountryList=[]\n",
        "Info=[]\n",
        "with open(join(path, filename)) as lines:\n",
        "  for line in lines:\n",
        "    line = line.replace(\",\", \".\").strip()\n",
        "    informationList = line.split(\";\")\n",
        "    if informationList[0] not in CountryList:\n",
        "      CountryList.append(informationList[0])\n",
        "    informationList[1] = int(informationList[1])\n",
        "    informationList[2] = float(informationList[2])\n",
        "    Info.append(informationList)\n",
        "inflationrate=[[]for i in range(len(CountryList))]\n",
        "for i in Info:\n",
        "  x=CountryList.index(i[0])\n",
        "  inflationrate[x].append(i[2])\n",
        "meanlist=[]\n",
        "for i in inflationrate:\n",
        "  meanlist.append(mean(i))\n",
        "print(\"The country with minimum mean inflation is\",CountryList[meanlist.index(min(meanlist))],\"with\",min(meanlist),\"mean inflation rate\")"
      ],
      "execution_count": null,
      "outputs": [
        {
          "output_type": "stream",
          "name": "stdout",
          "text": [
            "The country with minimum mean inflation is GRC with -0.014751480000000016 mean inflation rate\n"
          ]
        }
      ]
    },
    {
      "cell_type": "markdown",
      "metadata": {
        "id": "srIzF7eJYUAW"
      },
      "source": [
        "## 25 points - Q3: Transposing a List of Lists\n",
        "\n",
        "List/array reshaping is one of the most fundamental operations in data manipulation. In the figure below, you see a 4x3 dimensional list of lists (a list that contains lists) named `arr` that has integers from 1 to 12. We can take the transpose of this 4x3 list and transform it into a 3x4 list. \n",
        "\n",
        "![](https://i.ibb.co/K7CXTZX/Q3-transposed.png)\n",
        "\n",
        "By referencing the figure above, write a function named `transpose` which will take the transpose of the desired matrix. At the end, it should return the resulting matrix.\n",
        "\n",
        "```py\n",
        ">>> arr = [[1, 2, 3, 4], [5, 6, 7, 8], [9, 10, 11, 12]]\n",
        ">>> transpose(arr)\n",
        "[[1, 5, 9], [2, 6, 10], [3, 7, 11], [4, 8, 12]]\n",
        "```\n",
        "\n",
        "If the given list of lists does not represent a proper matrix (e.g., [[1,2], [3,4,5]] then, it should return \"Not a proper matrix\"\n",
        "\n",
        "```py\n",
        ">>> arr = [[1, 2, 3], [5, 6]]\n",
        ">>> transpose(arr)\n",
        "\"Not a proper matrix\"\n",
        "```"
      ]
    },
    {
      "cell_type": "code",
      "metadata": {
        "id": "iZgKbmvbZM61",
        "colab": {
          "base_uri": "https://localhost:8080/"
        },
        "outputId": "f73752c1-2012-4a08-a229-667334c86c16"
      },
      "source": [
        "arr = [[1, 2, 3, 4], [5, 6, 7, 8], [9, 10, 11, 12]]\n",
        "def transpose(m):\n",
        "  x=len(m)\n",
        "  y=len(m[0])\n",
        "  propermatrix=True\n",
        "  for i in m:\n",
        "    if len(i) != y:\n",
        "      propermatrix = False\n",
        "  if propermatrix==False:\n",
        "    print(\"Not a proper matrix\")\n",
        "  else:\n",
        "    newMatrix=[[0]*len(m) for i in range(y)]\n",
        "    for i in range(x):\n",
        "      for i2 in range(y): \n",
        "        newMatrix[i2][i]=m[i][i2]\n",
        "    return newMatrix\n",
        "print(transpose(arr))\n",
        "# your code"
      ],
      "execution_count": null,
      "outputs": [
        {
          "output_type": "stream",
          "name": "stdout",
          "text": [
            "[[1, 5, 9], [2, 6, 10], [3, 7, 11], [4, 8, 12]]\n"
          ]
        }
      ]
    },
    {
      "cell_type": "markdown",
      "metadata": {
        "id": "_0FzjI4Li18J"
      },
      "source": [
        "## 30 points - Q4: Most Frequent Bigram in a File\n",
        "\n",
        "`A pair of consecutive written words is called a bigram. For instance, if we were to find the bigrams in the sentence \"The quick brown fox jumps over the lazy dog.\", we would get [\"The quick\", \"quick brown\", \"brown fox\", ... \"the lazy\", \"lazy dog.\"]`\n",
        "\n",
        "In the assignment folder, you have a file named `best_song.txt` which stores the lyrics to the best song ever written by anyone:\n",
        "https://i.ibb.co/cb4B8sy/best-song.jpg\n",
        "\n",
        "Write a function named `most_used_bigram` which will take a file name as its single parameter and then reads and returns the **most frequently used bigram** and **how many times it has occurred** in the text.\n",
        "\n",
        "```py\n",
        ">>> most_used, times_used = most_used_bigram(\"best_song.txt\")\n",
        "```\n",
        "\n",
        "*Do not forget to add the shared file and then mount to your drive. Otherwise, you won't be able to read the file.*"
      ]
    },
    {
      "cell_type": "code",
      "metadata": {
        "id": "DEQOU3viZAfj",
        "colab": {
          "base_uri": "https://localhost:8080/"
        },
        "outputId": "4359d1ba-e2a9-4af9-a322-f19768563727"
      },
      "source": [
        "# Your code\n",
        "from os.path import join\n",
        "path = \"./drive/My Drive\" \n",
        "def most_used_bigram(filename): \n",
        "  bigrams=[]\n",
        "  with open(join(path, filename)) as lines:\n",
        "    for line in lines:\n",
        "      words=line.split()\n",
        "      for i in range(len(words)):\n",
        "        words[i]=words[i].strip(\"()\")\n",
        "      for i in range(len(words)):\n",
        "        if i !=0 and i!=len(words):\n",
        "          bigrams.append(words[i-1]+\" \"+words[i])\n",
        "  occurences ={}\n",
        "  for i in range(len(bigrams)):\n",
        "    if bigrams[i] in occurences.keys():\n",
        "      occurences[bigrams[i]]=occurences.get(bigrams[i])+1\n",
        "    else:\n",
        "      occurences[bigrams[i]]=1\n",
        "  return list(occurences.keys())[list(occurences.values()).index(max(occurences.values()))],max(occurences.values())\n",
        "most_used, times_used =most_used_bigram(\"best_song.txt\")\n",
        "print(most_used,\",\", times_used)"
      ],
      "execution_count": 3,
      "outputs": [
        {
          "output_type": "stream",
          "name": "stdout",
          "text": [
            "Never gonna , 36\n"
          ]
        }
      ]
    }
  ]
}