{
  "nbformat": 4,
  "nbformat_minor": 0,
  "metadata": {
    "colab": {
      "name": "Aktemur_Ege_hw2.ipynb",
      "provenance": [],
      "collapsed_sections": []
    },
    "kernelspec": {
      "name": "python3",
      "display_name": "Python 3"
    }
  },
  "cells": [
    {
      "cell_type": "markdown",
      "metadata": {
        "id": "JD9gUM7WW8iT"
      },
      "source": [
        "# Homework 2 - Data Wrangling\n",
        "\n",
        "\n",
        "*In this homework, you are going to work on a real-world dataset and perform some data transformations. We suggest you start the homework early.*\n",
        "\n",
        "**Submission Instructions**\n",
        "\n",
        "---\n",
        "It is important that you follow the submission instructions. \n",
        "1. Copy this assignment notebook to your Drive. <font color = 'red'> `File` --> `Save a copy in Drive`</font>. Rename it as <font color = 'green'>`Lastname_Firstname_hw2`</font>.\n",
        "\n",
        "2. Write your solutions in the cells  marked as <font color = 'green'>`# your code`</font>.\n",
        "\n",
        "3. **Do not delete your outputs**. They are essential for the grading. Make sure that cells containing your solutions are executed, and the results are displayed on the notebook.\n",
        "\n",
        "4. When you're done please submit your solutions as an <font color=\"red\">`.ipynb`</font> file. To do so:\n",
        "\n",
        "\n",
        "  a. Click on <font color=\"red\">`File`</font>  at the top left on the Colab screen, then click on <font color = 'red'>`Download .ipynb`</font>.\n",
        "\n",
        "  b. Then submit the downloaded <font color=\"red\">`.ipynb`</font> version of your work on SUCourse.\n",
        "\n",
        "\n",
        "For any question, please use the discussion page on Sucourse.\n",
        "\n",
        "---\n",
        "\n",
        "**Important Note: In this homework, you are not allowed to use Pandas.**"
      ]
    },
    {
      "cell_type": "code",
      "metadata": {
        "id": "pNfT6vfYaJdL",
        "colab": {
          "base_uri": "https://localhost:8080/"
        },
        "outputId": "114fed2d-0844-4888-8324-b5cd6a5d4d3a"
      },
      "source": [
        "from google.colab import drive\n",
        "drive.mount('./drive', force_remount=True)\n",
        "\n",
        "path_prefix = './drive/My Drive'"
      ],
      "execution_count": null,
      "outputs": [
        {
          "output_type": "stream",
          "name": "stdout",
          "text": [
            "Mounted at ./drive\n"
          ]
        }
      ]
    },
    {
      "cell_type": "code",
      "metadata": {
        "id": "YBCzbwaj4d5O"
      },
      "source": [
        "import numpy as np\n",
        "import matplotlib.pyplot as plt\n",
        "from os.path import join\n",
        "import re\n",
        "\n",
        "%matplotlib inline"
      ],
      "execution_count": null,
      "outputs": []
    },
    {
      "cell_type": "markdown",
      "metadata": {
        "id": "CDbkvQOd-JUt"
      },
      "source": [
        "## Social Distancing in Venezuela\n",
        "\n",
        "Governments across the globe imposed various NPIs (nonpharmaceutical interventions) to limit the mobility of masses and foster social distancing to prevent more infections. In Venezuela, a survey is conducted to collect public opionion on the impacts of COVID-19, which also captures the tendency to adhere to social distancing rules in public. You may read more about the data in detail from the link below.\n",
        "\n",
        "https://data.humdata.org/dataset/open_one_time_covid_impact\n",
        "\n",
        "In this homework, you are going to be working on a small sample from the original data, `venezuela_covid_impact_soc_dist.csv`, that focuses on social distancing, in which the following fields are stored:\n",
        "\n",
        "```\n",
        "'submission_id', 'submission_date', 'gender', 'age', 'education', 'how_likely_to_social_distance_when_out_in_public'\n",
        "```\n",
        "\n",
        "The first five rows of the file can be viewed below:\n",
        "\n",
        "```\n",
        "submission_id,submission_date,gender,age,education,how_likely_to_social_distance_when_out_in_public\n",
        "4621122344845312,2020   12 26  ,Male,26 to 35 years old,University or college degree completed,Very likely\n",
        "5073314990260224,<li>2020 12 10</li>,Male,16 to 25 years old,Some secondary school / high school,Neither likely nor unlikely\n",
        "5703966068572160,  2020----11++++ 19,Female,36 to 45 years old,Some university or college,Very likely\n",
        "5782300156755968,2020   12 07  ,Male,16 to 25 years old,Secondary/high school,Unlikely\n",
        "\n",
        "```\n",
        "\n",
        "** **Do not forget to add the shared file 'venezuela_covid_impact_soc_dist.csv' to your own drive.** **"
      ]
    },
    {
      "cell_type": "markdown",
      "metadata": {
        "id": "6hlYX4icW1U9"
      },
      "source": [
        "### Q1 - Read the Dataset\n",
        "\n",
        "In the provided dataset, entries are separated by commas. Read and store the file as a 2d numpy array in which columns capture the corresponding fields.\n",
        "\n",
        "- Read the given file into a numpy array.\n",
        "- At the end, print the number of rows and columns.\n",
        "\n",
        "```\n",
        "Number of rows: [...], columns: [...]\n",
        "```\n",
        "\n",
        "*Hint: Do not forget to skip the first line (the header).*"
      ]
    },
    {
      "cell_type": "code",
      "metadata": {
        "id": "fApp4vZf7rXv",
        "colab": {
          "base_uri": "https://localhost:8080/"
        },
        "outputId": "11d95f40-80a7-461e-a02f-af9fcf966fc0"
      },
      "source": [
        "fname = 'venezuela_covid_impact_soc_dist.csv'\n",
        "infos=[]\n",
        "firstline = False\n",
        "with open(join(path_prefix, fname)) as lines:\n",
        "  for line in lines:\n",
        "    linesplitted=line.split(\",\")\n",
        "    if firstline == True:\n",
        "      infos.append(linesplitted)\n",
        "    firstline = True\n",
        "ndarray=np.array(infos)\n",
        "\n",
        "print(\"Number of rows: \"+str(ndarray.shape[0])+\", columns: \"+str(ndarray.shape[1]))"
      ],
      "execution_count": null,
      "outputs": [
        {
          "output_type": "stream",
          "name": "stdout",
          "text": [
            "Number of rows: 7341, columns: 6\n"
          ]
        }
      ]
    },
    {
      "cell_type": "markdown",
      "metadata": {
        "id": "5hZw2gobH0Fy"
      },
      "source": [
        "### Q2 - Cleaning Date Values\n",
        "\n",
        "During the data collection process, most of the date values were registered with *non-numeric* rubbish characters between the date elements due to a glitch in the system. Some of the examples can be seen below where %Y represents years (e.g. 2021, 2020), %m month as a zero-padded decimal number (e.g. 07, 08) and %d day of the month as a zero-padded decimal number (e.g. 01, 03).\n",
        "\n",
        "```\n",
        "'%Y   %m %d', \n",
        "'  %Y----%m++++ %d', \n",
        "'<li>%Y %m %d</li>', \n",
        "'%Y /||\\ %m %d  ', \n",
        "'<<%Y  %m >> %d'\n",
        "```\n",
        "\n",
        "- You may assume that the order of date elements is always the same in the raw data: %Y %m %d.\n",
        "- Extract the actual date entries from the data. We expect you to use regular expressions for this part.\n",
        "- Rearrange the date values as **'%d-%m-%Y'** in the data (separate them with hypen -).\n",
        "- At the end, print the first three instances of the resulting dates as a list.\n",
        "\n",
        "```\n",
        "['26-12-2020' '10-12-2020' '19-11-2020']\n",
        "```"
      ]
    },
    {
      "cell_type": "code",
      "metadata": {
        "id": "qRJ3r8-vcp3S",
        "colab": {
          "base_uri": "https://localhost:8080/"
        },
        "outputId": "5e48bf2b-4780-4ce2-9d2b-4b0677b55500"
      },
      "source": [
        "# your code\n",
        "\n",
        "for i in range(ndarray.shape[0]):\n",
        "  if len(ndarray[i][1]) != 10 or ndarray[i][1][2] != \"-\" or ndarray[i][1][5] != \"-\":\n",
        "    deneme = re.findall('[0-9]+',ndarray[i][1])\n",
        "    newdate=deneme[2]+\"-\"+deneme[1]+\"-\"+deneme[0]\n",
        "    ndarray[i][1] = newdate\n",
        "print(ndarray[:3,1])\n",
        "\n",
        "#forbidden=[\"-\",\"+\",\"<\",\">\",\" \"]\n",
        "#for i in range(ndarray.shape[0]):\n",
        "#  ndarray[i][1] = ndarray[i][1].strip(\"</li> \")\n",
        "#  i2=0\n",
        "#  while i2 < (len(ndarray[i][1])):\n",
        "#    if ndarray[i][1][i2] in forbidden:\n",
        "#      ndarray[i][1] = ndarray[i][1][:i2] + ndarray[i][1][i2+1:]\n",
        "#      i2 = i2-1\n",
        "#    i2=i2+1\n",
        "#\n",
        "#for i in range(ndarray.shape[0]):\n",
        "#  newdate=ndarray[i][1][6:8]+\"-\"+ndarray[i][1][4:6]+\"-\"+ndarray[i][1][0:4]\n",
        "#  ndarray[i][1] = newdate\n"
      ],
      "execution_count": null,
      "outputs": [
        {
          "output_type": "stream",
          "name": "stdout",
          "text": [
            "['26-12-2020' '10-12-2020' '19-11-2020']\n"
          ]
        }
      ]
    },
    {
      "cell_type": "markdown",
      "metadata": {
        "id": "WkVsm6IHq1Z_"
      },
      "source": [
        "### Q3 - Drop Duplicate Rows\n",
        "\n",
        "As mentioned above, some problems took place during the data collection process and we are suspecting a case of data duplication. In fact, it turns out that there are rows with duplicates in the data. An excerpt from the file can be seen below:\n",
        "\n",
        "```\n",
        "5907953602527232,01-08-2021,Not Available,Not Available,Not Available,Not available,Not Available,Agree,Very likely\n",
        "5907953602527232,01-08-2021,Not Available,Not Available,Not Available,Not available,Not Available,Agree,Very likely\n",
        "5520514392260608,11-16-2020,Female,36 to 45 years old,\"I can afford food, but nothing else\",Secondary school/ high school completed,I am unemployed,Agree,Very likely\n",
        "```\n",
        "\n",
        "- Remove the duplicate rows from the array so that only unique entries are left.\n",
        "- At the end, print the total number of rows in the data after the duplicate removal.\n",
        "\n",
        "```\n",
        "Number of rows after duplicate removal: [...]\n",
        "```"
      ]
    },
    {
      "cell_type": "code",
      "metadata": {
        "id": "Il2yjtDyq7Rv",
        "colab": {
          "base_uri": "https://localhost:8080/"
        },
        "outputId": "a9fc15ea-a953-47b4-8a09-d02b7d1cee26"
      },
      "source": [
        "# your code\n",
        "uniques = np.unique(ndarray,axis=0)\n",
        "ndarray = uniques\n",
        "print(\"Number of rows after duplicate removal:\",ndarray.shape[0])"
      ],
      "execution_count": null,
      "outputs": [
        {
          "output_type": "stream",
          "name": "stdout",
          "text": [
            "Number of rows after duplicate removal: 7042\n"
          ]
        }
      ]
    },
    {
      "cell_type": "markdown",
      "metadata": {
        "id": "Cv9dk7AefEyd"
      },
      "source": [
        "### Q4 - Number of Entries per Month\n",
        "\n",
        "The users took the survey between November 2020 and January 2021. Display the total number of submissions per each month.\n",
        "\n",
        "- Calculate the number of entries registered in each month.\n",
        "- Display the result as a bar chart in which the bars are sorted wrt count values.\n",
        " \n",
        "![](https://i.ibb.co/5Fsv0Kb/m.png)\n",
        "\n",
        " *Hint: The dates are stored in a pre-defined format (day-month-year) after Q2.*"
      ]
    },
    {
      "cell_type": "code",
      "metadata": {
        "id": "yDeZWy0vfJBl",
        "colab": {
          "base_uri": "https://localhost:8080/",
          "height": 295
        },
        "outputId": "1f2bf254-0a13-44f4-c7b6-6b18d865500a"
      },
      "source": [
        "# your code\n",
        "months = []\n",
        "records= []\n",
        "for i in range(ndarray.shape[0]):\n",
        "  newdate=(ndarray[i][1][6:]+\"-\"+ndarray[i][1][3:5])\n",
        "  if newdate not in months:\n",
        "    months.append(newdate)\n",
        "    records.append(1)\n",
        "  else:\n",
        "    records[months.index(newdate)] = records[months.index(newdate)]+1\n",
        "\n",
        "mydict={}\n",
        "for i in range(len(months)):\n",
        "  mydict[months[i]] = records[i]\n",
        "\n",
        "sorteddict = {}\n",
        "for i in sorted(mydict.values()):\n",
        "    for k in mydict.keys():\n",
        "        if mydict[k] == i:\n",
        "            sorteddict[k] = mydict[k]\n",
        "\n",
        "plt.barh(np.arange(len(sorteddict.keys())), sorteddict.values())\n",
        "plt.yticks(np.arange(len(sorteddict.keys())), sorteddict.keys())\n",
        "for i, v in enumerate(sorteddict.values()):\n",
        "    plt.text(v+3, i, str(v))\n",
        "plt.xlim([0, max(list(sorteddict.values()))+300])\n",
        "plt.xlabel(\"# of Records\")\n",
        "plt.title(\"Number of Entries Per Month\")\n",
        "\n",
        "plt.show()\n"
      ],
      "execution_count": null,
      "outputs": [
        {
          "output_type": "display_data",
          "data": {
            "image/png": "[encoded data removed]",
            "text/plain": [
              "<Figure size 432x288 with 1 Axes>"
            ]
          },
          "metadata": {
            "needs_background": "light"
          }
        }
      ]
    },
    {
      "cell_type": "markdown",
      "metadata": {
        "id": "3vUUznH1m2hK"
      },
      "source": [
        "### Q5 - Transforming the Employment Status Column\n",
        "\n",
        "In the survey, the users were asked to provide their education level. Since it was an optional question, some left it empty or prefered not to answer. For the first case, such responses were recored as `Not available`, while the latter as `Prefer not to answer`.\n",
        "\n",
        "In addition, some test takers provided the same answer with slightly different words. For instance, to indicate high school some wrote 'Secondary school/ high school completed', while others simply put 'High school'. To eliminate the inconsistency, we need to replace such entries with a coherent choice. In the dictionary below, keys correspond to the entries that need to be replaced by their associated value.\n",
        "\n",
        "- Replace the given education categories with the provided list.\n",
        "- Remove the rows with `Not available` or `Prefer not to answer` responses.\n",
        "- Finally, print the resulting number of rows and unique education categories .\n",
        "\n",
        "```\n",
        "Number of rows: [...]\n",
        "['High school' 'Post graduate' 'Primary school' 'Technical school' 'University']\n",
        "```"
      ]
    },
    {
      "cell_type": "code",
      "metadata": {
        "id": "XeyXFjMym6j1",
        "colab": {
          "base_uri": "https://localhost:8080/"
        },
        "outputId": "7e9fc493-1d8f-4d8b-e79f-640dd7d75eb6"
      },
      "source": [
        "adj_edu = {\n",
        "    'Secondary school/ high school completed': 'High school',\n",
        "    'Secondary/high school': 'High school',\n",
        "    'Some secondary school / high school': 'High school',\n",
        "    'University or college degree completed': 'University',\n",
        "    'Some university or college': 'University',\n",
        "    'College or university': 'University',\n",
        "    'Technical school diploma or degree completed': 'Technical school',\n",
        "    'Some technical education (e.g polytechnic school)': 'Technical school',\n",
        "    'Post-graduate education': 'Post graduate',\n",
        "    'Some primary education': 'Primary school',\n",
        "    'Primary school completed': 'Primary school'\n",
        "}\n",
        "\n",
        "i=0\n",
        "unique_edu=[];\n",
        "while i<(ndarray.shape[0]):\n",
        "  if (((ndarray[i][4]) == \"Prefer not to answer\") or ((ndarray[i][4]) == \"Not available\")):\n",
        "    ndarray=np.delete(ndarray,i,axis=0)\n",
        "    i=i-1\n",
        "  elif (ndarray[i][4]) in adj_edu.keys():\n",
        "    ndarray[i][4] = list(adj_edu.values())[list(adj_edu.keys()).index(ndarray[i][4])]\n",
        "  if (ndarray[i][4]) not in unique_edu:\n",
        "    unique_edu.append(ndarray[i][4])\n",
        "  i= i+1;\n",
        "  \n",
        "print(\"Number of rows:\",ndarray.shape[0])\n",
        "print(unique_edu)"
      ],
      "execution_count": null,
      "outputs": [
        {
          "output_type": "stream",
          "name": "stdout",
          "text": [
            "Number of rows: 6962\n",
            "['University', 'High school', 'Technical school', 'Post graduate', 'Primary school']\n"
          ]
        }
      ]
    },
    {
      "cell_type": "markdown",
      "metadata": {
        "id": "P2PXxdSEuF9e"
      },
      "source": [
        "### Q6 - Social Distancing & Education\n",
        "\n",
        "Lastly, we want to understand the relationship between education and adherence to social distancing. In the `how_likely_to_social_distance_when_out_in_public` column, there are five different replies, ranged between `'Very unlikely'` to `'Very likely'`. Here, we want to calculate the likelihood of getting `'Very likely'` replies conditioned on education status. In particular, you'll find the education category that maximizes this probability.\n",
        "\n",
        "\n",
        "\n",
        "$\\DeclareMathOperator*{\\argmax}{argmax} \\argmax\\limits_{\\small{edu} \\, \\in \\, \\text{Education Category}}\\;P(\\text{Social Distancing}=\\text{'Very likely'}|\\text{Education Category}=\\text{edu})$\n",
        "\n",
        "- For each education category, calculate the conditional probability above.\n",
        "- Get the one that returns the highest. \n",
        "- At the end, print the education category and its probability value.\n",
        "\n",
        "```\n",
        "Post graduate: [...]\n",
        "```"
      ]
    },
    {
      "cell_type": "code",
      "metadata": {
        "id": "s3fs58kXuLZM",
        "colab": {
          "base_uri": "https://localhost:8080/"
        },
        "outputId": "fe24295a-8420-4e46-ba24-a643ff248ae0"
      },
      "source": [
        "# your solution\n",
        "i=0\n",
        "repedu={}\n",
        "repedu2={}\n",
        "count = 0\n",
        "while i<(ndarray.shape[0]):\n",
        "  ndarray[i][5] = ndarray[i][5].strip(\"\\n\")\n",
        "  if ndarray[i][4] not in repedu2.keys():\n",
        "      repedu2[ndarray[i][4]] = 1\n",
        "  else:\n",
        "    repedu2[ndarray[i][4]] = repedu2[ndarray[i][4]] + 1\n",
        "  if ndarray[i][5] == \"Very likely\":\n",
        "    if ndarray[i][4] not in repedu.keys():\n",
        "      repedu[ndarray[i][4]] = 1\n",
        "    else:\n",
        "      repedu[ndarray[i][4]] = repedu[ndarray[i][4]] + 1\n",
        "    count= count+1\n",
        "  i=i+1\n",
        "results=[]\n",
        "for i in range(len(repedu.values())):\n",
        "  results.append(list(repedu.values())[i]/repedu2.get(list(repedu.keys())[i]))\n",
        "print(list(repedu.keys())[results.index(max(results))]+\": \"+str(max(results)))"
      ],
      "execution_count": null,
      "outputs": [
        {
          "output_type": "stream",
          "name": "stdout",
          "text": [
            "Post graduate: 0.5345268542199488\n"
          ]
        }
      ]
    }
  ]
}